{
  "nbformat": 4,
  "nbformat_minor": 0,
  "metadata": {
    "colab": {
      "name": "Trapezoidal method.ipynb",
      "provenance": [],
      "collapsed_sections": [],
      "authorship_tag": "ABX9TyMo0ooisLethGpAoLpfT4Or",
      "include_colab_link": true
    },
    "kernelspec": {
      "name": "python3",
      "display_name": "Python 3"
    },
    "language_info": {
      "name": "python"
    }
  },
  "cells": [
    {
      "cell_type": "markdown",
      "metadata": {
        "id": "view-in-github",
        "colab_type": "text"
      },
      "source": [
        "<a href=\"https://colab.research.google.com/github/jahanvikotwal/Machine-Learning/blob/main/Trapezoidal_method.ipynb\" target=\"_parent\"><img src=\"https://colab.research.google.com/assets/colab-badge.svg\" alt=\"Open In Colab\"/></a>"
      ]
    },
    {
      "cell_type": "code",
      "execution_count": null,
      "metadata": {
        "colab": {
          "base_uri": "https://localhost:8080/"
        },
        "id": "3EfAd6KAqta_",
        "outputId": "a7d63c4b-3b2f-4232-9cb8-a245ce58a4b4"
      },
      "outputs": [
        {
          "output_type": "stream",
          "name": "stdout",
          "text": [
            "Enter lower limit of integration: 20\n",
            "Enter upper limit of integration: 12\n",
            "Enter number of sub intervals: 15\n",
            "Integration result by Trapezoidal method is: -0.033204\n"
          ]
        }
      ],
      "source": [
        "def f(x):\n",
        "    return 1/(1 + x**2)\n",
        "\n",
        "# Implementing trapezoidal method\n",
        "def trapezoidal(x0,xn,n):\n",
        "    # calculating step size\n",
        "    h = (xn - x0) / n\n",
        "    \n",
        "    # Finding sum \n",
        "    integration = f(x0) + f(xn)\n",
        "    \n",
        "    for i in range(1,n):\n",
        "        k = x0 + i*h\n",
        "        integration = integration + 2 * f(k)\n",
        "    \n",
        "    # Finding final integration value\n",
        "    integration = integration * h/2\n",
        "    \n",
        "    return integration\n",
        "    \n",
        "# Input section\n",
        "lower_limit = float(input(\"Enter lower limit of integration: \"))\n",
        "upper_limit = float(input(\"Enter upper limit of integration: \"))\n",
        "sub_interval = int(input(\"Enter number of sub intervals: \"))\n",
        "\n",
        "# Call trapezoidal() method and get result\n",
        "result = trapezoidal(lower_limit, upper_limit, sub_interval)\n",
        "print(\"Integration result by Trapezoidal method is: %0.6f\" % (result) )"
      ]
    }
  ]
}